{
  "nbformat": 4,
  "nbformat_minor": 0,
  "metadata": {
    "colab": {
      "provenance": [],
      "authorship_tag": "ABX9TyOWo/5Bz4hUTNrQ0A9lBxXH",
      "include_colab_link": true
    },
    "kernelspec": {
      "name": "python3",
      "display_name": "Python 3"
    },
    "language_info": {
      "name": "python"
    }
  },
  "cells": [
    {
      "cell_type": "markdown",
      "metadata": {
        "id": "view-in-github",
        "colab_type": "text"
      },
      "source": [
        "<a href=\"https://colab.research.google.com/github/GMouraBFR/Analise_Flamengo_20-23/blob/main/Balanco_Flamengo_20-23.ipynb\" target=\"_parent\"><img src=\"https://colab.research.google.com/assets/colab-badge.svg\" alt=\"Open In Colab\"/></a>"
      ]
    },
    {
      "cell_type": "markdown",
      "source": [
        "# **Criando tabela de análise Balaço Financeiro Flamengo 2020 - 2023**"
      ],
      "metadata": {
        "id": "sElUHERAs6MA"
      }
    },
    {
      "cell_type": "markdown",
      "source": [
        "# Importando dados"
      ],
      "metadata": {
        "id": "lWXQ5RHaugJT"
      }
    },
    {
      "cell_type": "code",
      "execution_count": 11,
      "metadata": {
        "id": "dlzNBcQMs4W-"
      },
      "outputs": [],
      "source": [
        "import pandas as pd\n",
        "\n",
        "# Dados do balanço patrimonial\n",
        "\n",
        "data_balanco = {\n",
        "    'Categoria': ['Caixa e equivalentes de caixa', 'Caixa restrito', 'Contas a receber', 'Contas a receber com a transferência de jogadores',\n",
        "                  'Estoques', 'Despesas antecipadas', 'Outros', 'Total do ativo circulante',\n",
        "                  'Ativo não circulante disponível para venda', 'Contas a receber com a transferência de jogadores (não circulante)',\n",
        "                  'Depósitos judiciais', 'Propriedades para investimento', 'Intangível', 'Imobilizado', 'Outros (não circulante)',\n",
        "                  'Total do ativo não circulante', 'Total do ativo',\n",
        "                  'Fornecedores e outras obrigações', 'Contas a pagar com a transferência de jogadores',\n",
        "                  'Empréstimos', 'Impostos e contribuições sociais', 'Obrigações trabalhistas e sociais',\n",
        "                  'Adiantamentos recebidos', 'Total do passivo circulante',\n",
        "                  'Fornecedores e outras obrigações (não circulante)', 'Contas a pagar com a transferência de jogadores (não circulante)',\n",
        "                  'Impostos e contribuições sociais (não circulante)', 'Provisão para contingências',\n",
        "                  'Adiantamentos recebidos (não circulante)', 'Total do passivo não circulante',\n",
        "                  'Total do passivo', 'Reserva de reavaliação', 'Superávits acumulados', 'Total do patrimônio líquido',\n",
        "                  'Total do passivo e do patrimônio líquido'],\n",
        "    'Nota': [3, 3, 4, 5, '', '', '', '', 6.1, 5, 14, 6.2, 7, 8, '', '', '', 9, 10, 11, 12, 13, 15, '',\n",
        "             9, 10, 12, 14, 15, '', '', 16, '', '', ''],\n",
        "    '2023': [234487, 28073, 38686, 123423, 3780, 11272, 16193, 455914, 59953,\n",
        "             54196, 58780, 38625, 469080, 247794, 5560, 874035, 1389902,\n",
        "             60225, 137159, 0, 32546, 24580, 120772, 375282,\n",
        "             19872, 97070, 155543, 88044, 0, 360529, 735812, 192980, 461111, 654091, 1389902],\n",
        "    '2022': [236887, 17581, 17720, 53821, 4113, 2462, 10974, 343558, 0,\n",
        "             37034, 53076, 104893, 372299, 216165, 4868, 788335, 1131893,\n",
        "             34566, 145368, 35948, 48246, 33347, 94692, 392167,\n",
        "             17198, 69171, 196588, 100247, 21976, 405180, 797347, 201331, 133215, 334546, 1131893],\n",
        "    '2021': [127182, 25233, 38427, 77194, 3391, 17234, 16093, 304754, 0,\n",
        "             81943, 52958, 104911, 308865, 208854, 4342, 761873, 1066627,\n",
        "             17676, 111756, 39937, 72970, 31776, 91001, 366071,\n",
        "             10711, 92979, 203918, 117726, 45627, 501700, 867771, 234033, -35177, 198856, 1066627],\n",
        "    '2020': [50988, 14897, 11215, 99624, 2299, 8928, 10275, 198226, 0,\n",
        "             0, 44184, 104930, 391533, 201488, 4161, 746296, 944522,\n",
        "             17479, 173961, 59625, 54477, 39153, 149420, 495065,\n",
        "             7136, 96470, 207434, 115533, 1675, 428248, 923313, 237022, -215813, 21209, 944522]\n",
        "}\n",
        "\n",
        "df_balanco = pd.DataFrame(data_balanco)"
      ]
    },
    {
      "cell_type": "markdown",
      "source": [
        "# **Criando DataFrame**"
      ],
      "metadata": {
        "id": "MMxzIlhHtROC"
      }
    },
    {
      "cell_type": "code",
      "source": [
        "# Criar DataFrame\n",
        "df_balanco = pd.DataFrame(data_balanco)\n",
        "\n",
        "# Exibir DataFrame\n",
        "print(df_balanco)\n",
        "\n"
      ],
      "metadata": {
        "colab": {
          "base_uri": "https://localhost:8080/"
        },
        "id": "ZpTYKAXztORR",
        "outputId": "47327047-f031-4860-8033-f1cc71b75801"
      },
      "execution_count": 12,
      "outputs": [
        {
          "output_type": "stream",
          "name": "stdout",
          "text": [
            "                                            Categoria Nota     2023     2022  \\\n",
            "0                       Caixa e equivalentes de caixa    3   234487   236887   \n",
            "1                                      Caixa restrito    3    28073    17581   \n",
            "2                                    Contas a receber    4    38686    17720   \n",
            "3   Contas a receber com a transferência de jogadores    5   123423    53821   \n",
            "4                                            Estoques          3780     4113   \n",
            "5                                Despesas antecipadas         11272     2462   \n",
            "6                                              Outros         16193    10974   \n",
            "7                           Total do ativo circulante        455914   343558   \n",
            "8          Ativo não circulante disponível para venda  6.1    59953        0   \n",
            "9   Contas a receber com a transferência de jogado...    5    54196    37034   \n",
            "10                                Depósitos judiciais   14    58780    53076   \n",
            "11                     Propriedades para investimento  6.2    38625   104893   \n",
            "12                                         Intangível    7   469080   372299   \n",
            "13                                        Imobilizado    8   247794   216165   \n",
            "14                            Outros (não circulante)          5560     4868   \n",
            "15                      Total do ativo não circulante        874035   788335   \n",
            "16                                     Total do ativo       1389902  1131893   \n",
            "17                   Fornecedores e outras obrigações    9    60225    34566   \n",
            "18    Contas a pagar com a transferência de jogadores   10   137159   145368   \n",
            "19                                        Empréstimos   11        0    35948   \n",
            "20                   Impostos e contribuições sociais   12    32546    48246   \n",
            "21                  Obrigações trabalhistas e sociais   13    24580    33347   \n",
            "22                            Adiantamentos recebidos   15   120772    94692   \n",
            "23                        Total do passivo circulante        375282   392167   \n",
            "24  Fornecedores e outras obrigações (não circulante)    9    19872    17198   \n",
            "25  Contas a pagar com a transferência de jogadore...   10    97070    69171   \n",
            "26  Impostos e contribuições sociais (não circulante)   12   155543   196588   \n",
            "27                        Provisão para contingências   14    88044   100247   \n",
            "28           Adiantamentos recebidos (não circulante)   15        0    21976   \n",
            "29                    Total do passivo não circulante        360529   405180   \n",
            "30                                   Total do passivo        735812   797347   \n",
            "31                             Reserva de reavaliação   16   192980   201331   \n",
            "32                              Superávits acumulados        461111   133215   \n",
            "33                        Total do patrimônio líquido        654091   334546   \n",
            "34           Total do passivo e do patrimônio líquido       1389902  1131893   \n",
            "\n",
            "       2021    2020  \n",
            "0    127182   50988  \n",
            "1     25233   14897  \n",
            "2     38427   11215  \n",
            "3     77194   99624  \n",
            "4      3391    2299  \n",
            "5     17234    8928  \n",
            "6     16093   10275  \n",
            "7    304754  198226  \n",
            "8         0       0  \n",
            "9     81943       0  \n",
            "10    52958   44184  \n",
            "11   104911  104930  \n",
            "12   308865  391533  \n",
            "13   208854  201488  \n",
            "14     4342    4161  \n",
            "15   761873  746296  \n",
            "16  1066627  944522  \n",
            "17    17676   17479  \n",
            "18   111756  173961  \n",
            "19    39937   59625  \n",
            "20    72970   54477  \n",
            "21    31776   39153  \n",
            "22    91001  149420  \n",
            "23   366071  495065  \n",
            "24    10711    7136  \n",
            "25    92979   96470  \n",
            "26   203918  207434  \n",
            "27   117726  115533  \n",
            "28    45627    1675  \n",
            "29   501700  428248  \n",
            "30   867771  923313  \n",
            "31   234033  237022  \n",
            "32   -35177 -215813  \n",
            "33   198856   21209  \n",
            "34  1066627  944522  \n"
          ]
        }
      ]
    },
    {
      "cell_type": "markdown",
      "source": [
        "# **Dados da demonstração do resultado**"
      ],
      "metadata": {
        "id": "S-bVDDJItUWZ"
      }
    },
    {
      "cell_type": "code",
      "source": [
        "# Dados da demonstração do resultado\n",
        "data_resultado = {\n",
        "    'Categoria': ['Receita operacional líquida', 'Custo das atividades sociais e esportivas', 'Resultado bruto',\n",
        "                  'Despesas administrativas', 'Despesas comerciais', 'Outras receitas (despesas) operacionais líquidas',\n",
        "                  'Resultado operacional antes do resultado financeiro', 'Despesas financeiras', 'Receitas financeiras',\n",
        "                  'Superávit do exercício'],\n",
        "    'Nota': [17, 18, '', 19, 20, 21, '', 22, 22, ''],\n",
        "    '2023': [1315873, -936084, 377789, -74523, -31871, 18304, 291698, -30657, 58503, 319545],\n",
        "    '2022': [1112429, -827538, 284891, -78698, -31171, -18346, 156676, -34274, 13288, 135690],\n",
        "    '2021': [1025428, -761610, 263818, -45763, -18318, -11592, 188145, -21424, 10925, 177646],\n",
        "    '2020': [644093, -614948, 29145, -73769, -12198, -8792, -65614, -45293, 3985, -106922]\n",
        "}\n",
        "\n"
      ],
      "metadata": {
        "id": "MyCBXlDLtWKZ"
      },
      "execution_count": 13,
      "outputs": []
    },
    {
      "cell_type": "markdown",
      "source": [
        "# **Criar DataFrame**"
      ],
      "metadata": {
        "id": "RaMCcipBtjkD"
      }
    },
    {
      "cell_type": "code",
      "source": [
        "\n",
        "# Criar DataFrame\n",
        "df_resultado = pd.DataFrame(data_resultado)\n",
        "\n",
        "# Exibir DataFrame\n",
        "print(df_resultado)\n",
        "\n"
      ],
      "metadata": {
        "colab": {
          "base_uri": "https://localhost:8080/"
        },
        "id": "ZtrGSwTStjPj",
        "outputId": "52c4915b-9393-4dbf-b1a4-6795c95c103d"
      },
      "execution_count": 14,
      "outputs": [
        {
          "output_type": "stream",
          "name": "stdout",
          "text": [
            "                                           Categoria Nota     2023     2022  \\\n",
            "0                        Receita operacional líquida   17  1315873  1112429   \n",
            "1          Custo das atividades sociais e esportivas   18  -936084  -827538   \n",
            "2                                    Resultado bruto        377789   284891   \n",
            "3                           Despesas administrativas   19   -74523   -78698   \n",
            "4                                Despesas comerciais   20   -31871   -31171   \n",
            "5   Outras receitas (despesas) operacionais líquidas   21    18304   -18346   \n",
            "6  Resultado operacional antes do resultado finan...        291698   156676   \n",
            "7                               Despesas financeiras   22   -30657   -34274   \n",
            "8                               Receitas financeiras   22    58503    13288   \n",
            "9                             Superávit do exercício        319545   135690   \n",
            "\n",
            "      2021    2020  \n",
            "0  1025428  644093  \n",
            "1  -761610 -614948  \n",
            "2   263818   29145  \n",
            "3   -45763  -73769  \n",
            "4   -18318  -12198  \n",
            "5   -11592   -8792  \n",
            "6   188145  -65614  \n",
            "7   -21424  -45293  \n",
            "8    10925    3985  \n",
            "9   177646 -106922  \n"
          ]
        }
      ]
    },
    {
      "cell_type": "markdown",
      "source": [
        "# **Dados da demonstração do resultado abrangente**"
      ],
      "metadata": {
        "id": "Ytx0fG2OtoAs"
      }
    },
    {
      "cell_type": "code",
      "source": [
        "data_resultado_abrangente = {\n",
        "    'Categoria': ['Superávit do exercício', 'Outros resultados abrangentes', 'Total do resultado abrangente'],\n",
        "    '2023': [319545, 0, 319545],\n",
        "    '2022': [135690, 0, 135690],\n",
        "    '2021': [177646, 0, 177646],\n",
        "    '2020': [-106922, 0, -106922]\n",
        "}\n"
      ],
      "metadata": {
        "id": "e1cFlupBtn00"
      },
      "execution_count": 15,
      "outputs": []
    },
    {
      "cell_type": "markdown",
      "source": [
        "# **Criar DataFrame**"
      ],
      "metadata": {
        "id": "2_Jbdm3itrgF"
      }
    },
    {
      "cell_type": "code",
      "source": [
        "# Criar DataFrame\n",
        "df_resultado_abrangente = pd.DataFrame(data_resultado_abrangente)\n",
        "\n",
        "# Exibir DataFrame\n",
        "print(df_resultado_abrangente)\n",
        "\n"
      ],
      "metadata": {
        "colab": {
          "base_uri": "https://localhost:8080/"
        },
        "id": "DCwYpXE1trW9",
        "outputId": "2c1add44-f833-42c8-af2d-79e9ea5523ea"
      },
      "execution_count": 16,
      "outputs": [
        {
          "output_type": "stream",
          "name": "stdout",
          "text": [
            "                       Categoria    2023    2022    2021    2020\n",
            "0         Superávit do exercício  319545  135690  177646 -106922\n",
            "1  Outros resultados abrangentes       0       0       0       0\n",
            "2  Total do resultado abrangente  319545  135690  177646 -106922\n"
          ]
        }
      ]
    },
    {
      "cell_type": "markdown",
      "source": [
        "# **Dados das mutações do patrimônio líquido**\n"
      ],
      "metadata": {
        "id": "aHzkEMIxtvpc"
      }
    },
    {
      "cell_type": "code",
      "source": [
        "# Dados das mutações do patrimônio líquido\n",
        "data_mutacoes_patrimonio = {\n",
        "    'Categoria': ['Saldo em 31 de dezembro de 2019', 'Déficit do exercício', 'Realização do custo atribuído',\n",
        "                  'Saldo em 31 de dezembro de 2020', 'Superávit do exercício', 'Realização do custo atribuído',\n",
        "                  'Saldo em 31 de dezembro de 2021', 'Superávit do exercício', 'Realização do custo atribuído',\n",
        "                  'Saldo em 31 de dezembro de 2022', 'Superávit do exercício', 'Realização do custo atribuído',\n",
        "                  'Saldo em 31 de dezembro de 2023'],\n",
        "    'Reserva de reavaliação': [240011, 0, -2989, 237022, 0, -2989, 234033, 0, -2990, 201331, 0, -8351, 192980],\n",
        "    'Superávits (déficits) acumulados': [-111880, -106922, 2989, -215813, 177646, 2989, -35177, 135690, 2990, 133215, 319545, 8351, 461111],\n",
        "    'Total do patrimônio líquido': [128131, -106922, 0, 21209, 177646, 0, 198856, 135690, 0, 334546, 319545, 0, 654091]\n",
        "}"
      ],
      "metadata": {
        "id": "XP2YzQTRtvfs"
      },
      "execution_count": 17,
      "outputs": []
    },
    {
      "cell_type": "markdown",
      "source": [
        "# **Criar DataFrame**"
      ],
      "metadata": {
        "id": "WLsqUrcItyL9"
      }
    },
    {
      "cell_type": "code",
      "source": [
        "\n",
        "# Criar DataFrame\n",
        "df_mutacoes_patrimonio = pd.DataFrame(data_mutacoes_patrimonio)\n",
        "\n",
        "# Exibir DataFrame\n",
        "print(df_mutacoes_patrimonio)\n"
      ],
      "metadata": {
        "colab": {
          "base_uri": "https://localhost:8080/"
        },
        "id": "-fUZGFCHtyBV",
        "outputId": "c3c68dfb-f48a-48af-e572-7754e50b0d84"
      },
      "execution_count": 18,
      "outputs": [
        {
          "output_type": "stream",
          "name": "stdout",
          "text": [
            "                          Categoria  Reserva de reavaliação  \\\n",
            "0   Saldo em 31 de dezembro de 2019                  240011   \n",
            "1              Déficit do exercício                       0   \n",
            "2     Realização do custo atribuído                   -2989   \n",
            "3   Saldo em 31 de dezembro de 2020                  237022   \n",
            "4            Superávit do exercício                       0   \n",
            "5     Realização do custo atribuído                   -2989   \n",
            "6   Saldo em 31 de dezembro de 2021                  234033   \n",
            "7            Superávit do exercício                       0   \n",
            "8     Realização do custo atribuído                   -2990   \n",
            "9   Saldo em 31 de dezembro de 2022                  201331   \n",
            "10           Superávit do exercício                       0   \n",
            "11    Realização do custo atribuído                   -8351   \n",
            "12  Saldo em 31 de dezembro de 2023                  192980   \n",
            "\n",
            "    Superávits (déficits) acumulados  Total do patrimônio líquido  \n",
            "0                            -111880                       128131  \n",
            "1                            -106922                      -106922  \n",
            "2                               2989                            0  \n",
            "3                            -215813                        21209  \n",
            "4                             177646                       177646  \n",
            "5                               2989                            0  \n",
            "6                             -35177                       198856  \n",
            "7                             135690                       135690  \n",
            "8                               2990                            0  \n",
            "9                             133215                       334546  \n",
            "10                            319545                       319545  \n",
            "11                              8351                            0  \n",
            "12                            461111                       654091  \n"
          ]
        }
      ]
    },
    {
      "cell_type": "markdown",
      "source": [
        "# **Dados do fluxo de caixa**"
      ],
      "metadata": {
        "id": "MkpCiUkXt0vO"
      }
    },
    {
      "cell_type": "code",
      "source": [
        "\n",
        "# Dados do fluxo de caixa\n",
        "data_fluxo_caixa = {\n",
        "    'Categoria': ['Superávit do exercício', 'Amortização dos direitos sobre jogadores', 'Depreciação de imobilizado e amortização de outros ativos',\n",
        "                  'Provisão esperada para créditos de liquidação duvidosa', 'Provisão para contingências',\n",
        "                  'Despesas financeiras - juros de empréstimos', 'Despesas financeiras - correção monetária de impostos a pagar',\n",
        "                  'Outras atualizações monetárias de ativos e passivos', 'Alienação de ativo não circulante mantido para venda',\n",
        "                  'Contas a receber', 'Estoques', 'Despesas antecipadas', 'Depósitos judiciais', 'Outros ativos',\n",
        "                  'Fornecedores', 'Impostos e contribuições sociais', 'Obrigações trabalhistas e sociais', 'Adiantamentos recebidos',\n",
        "                  'Outros passivos', 'Pagamento de juros', 'Caixa líquido gerado nas atividades operacionais',\n",
        "                  'Caixa restrito', 'Pagamento pela compra de direitos de jogadores', 'Contas a pagar com a transferência de jogadores',\n",
        "                  'Contas a receber com a transferência de jogadores', 'Compras de imobilizado',\n",
        "                  'Alienação de ativo não circulante mantido para venda', 'Caixa líquido aplicado nas atividades de investimento',\n",
        "                  'Pagamento de empréstimos', 'Pagamento de impostos parcelados', 'Caixa gerado nas atividades de financiamentos',\n",
        "                  'Caixa e equivalentes de caixa no início do exercício', 'Caixa e equivalentes de caixa no final do exercício',\n",
        "                  'Aumento de caixa e equivalentes de caixa'],\n",
        "    '2023': [319545, 175729, 7731, -4748, -12203, 1748, 16810, -4537, -3118,\n",
        "             -16218, 333, -8810, -1167, -5911, 28334, -58988, -8767, 4104,\n",
        "             0, -11704, 418163, -10492, -272510, 19690, -86764, -39341,\n",
        "             9414, -380003, -31533, -9027, -40560, 236887, 234487, -2400],\n",
        "    '2022': [135690, 181335, 6913, 12235, -7248, 8290, 9882, -5620, 0,\n",
        "             8472, -722, 14772, 5502, 4593, 23377, -26278, 1571, -19960,\n",
        "             -11186, -12399, 329219, 7651, -245081, 9804, 68282, -13894,\n",
        "             0, -173238, -35944, -10333, -46277, 127182, 236887, 109705],\n",
        "    '2021': [177646, 136898, 6065, 7470, 2193, 6986, 6663, -1815, 0,\n",
        "             -39752, -1092, -8306, -6958, -5998, 3772, 20373, -7377, -9397,\n",
        "             4, -9639, 316742, -10336, -93003, -67490, -59513, -13413,\n",
        "             0, -243755, -126075, -5964, 3207, 50988, 127182, 76194],\n",
        "    '2020': [-106922, 123157, 5608, 2335, 37925, 4900, 5173, -1996, 0,\n",
        "             24665, -634, 7454, -6701, 1930, -5980, -7026, 12270, 28418,\n",
        "             108, -14272, 110412, 1853, -194667, 114908, -50097, -4646,\n",
        "             0, -132649, -131118, -9156, 2326, 70899, 50988, -19911]\n",
        "}\n"
      ],
      "metadata": {
        "id": "t0MTrD0et0iv"
      },
      "execution_count": 19,
      "outputs": []
    },
    {
      "cell_type": "markdown",
      "source": [
        "# **Criar DataFrame**"
      ],
      "metadata": {
        "id": "VLXL1Nwht3L1"
      }
    },
    {
      "cell_type": "code",
      "source": [
        "# Criar DataFrame\n",
        "df_fluxo_caixa = pd.DataFrame(data_fluxo_caixa)\n",
        "\n",
        "# Exibir DataFrame\n",
        "print(df_fluxo_caixa)"
      ],
      "metadata": {
        "colab": {
          "base_uri": "https://localhost:8080/"
        },
        "id": "0nqTXWQFt3DF",
        "outputId": "8fac8466-a5d5-45b5-cd5b-5dbeb372b152"
      },
      "execution_count": 20,
      "outputs": [
        {
          "output_type": "stream",
          "name": "stdout",
          "text": [
            "                                            Categoria    2023    2022    2021  \\\n",
            "0                              Superávit do exercício  319545  135690  177646   \n",
            "1            Amortização dos direitos sobre jogadores  175729  181335  136898   \n",
            "2   Depreciação de imobilizado e amortização de ou...    7731    6913    6065   \n",
            "3   Provisão esperada para créditos de liquidação ...   -4748   12235    7470   \n",
            "4                         Provisão para contingências  -12203   -7248    2193   \n",
            "5         Despesas financeiras - juros de empréstimos    1748    8290    6986   \n",
            "6   Despesas financeiras - correção monetária de i...   16810    9882    6663   \n",
            "7   Outras atualizações monetárias de ativos e pas...   -4537   -5620   -1815   \n",
            "8   Alienação de ativo não circulante mantido para...   -3118       0       0   \n",
            "9                                    Contas a receber  -16218    8472  -39752   \n",
            "10                                           Estoques     333    -722   -1092   \n",
            "11                               Despesas antecipadas   -8810   14772   -8306   \n",
            "12                                Depósitos judiciais   -1167    5502   -6958   \n",
            "13                                      Outros ativos   -5911    4593   -5998   \n",
            "14                                       Fornecedores   28334   23377    3772   \n",
            "15                   Impostos e contribuições sociais  -58988  -26278   20373   \n",
            "16                  Obrigações trabalhistas e sociais   -8767    1571   -7377   \n",
            "17                            Adiantamentos recebidos    4104  -19960   -9397   \n",
            "18                                    Outros passivos       0  -11186       4   \n",
            "19                                 Pagamento de juros  -11704  -12399   -9639   \n",
            "20   Caixa líquido gerado nas atividades operacionais  418163  329219  316742   \n",
            "21                                     Caixa restrito  -10492    7651  -10336   \n",
            "22     Pagamento pela compra de direitos de jogadores -272510 -245081  -93003   \n",
            "23    Contas a pagar com a transferência de jogadores   19690    9804  -67490   \n",
            "24  Contas a receber com a transferência de jogadores  -86764   68282  -59513   \n",
            "25                             Compras de imobilizado  -39341  -13894  -13413   \n",
            "26  Alienação de ativo não circulante mantido para...    9414       0       0   \n",
            "27  Caixa líquido aplicado nas atividades de inves... -380003 -173238 -243755   \n",
            "28                           Pagamento de empréstimos  -31533  -35944 -126075   \n",
            "29                   Pagamento de impostos parcelados   -9027  -10333   -5964   \n",
            "30      Caixa gerado nas atividades de financiamentos  -40560  -46277    3207   \n",
            "31  Caixa e equivalentes de caixa no início do exe...  236887  127182   50988   \n",
            "32  Caixa e equivalentes de caixa no final do exer...  234487  236887  127182   \n",
            "33           Aumento de caixa e equivalentes de caixa   -2400  109705   76194   \n",
            "\n",
            "      2020  \n",
            "0  -106922  \n",
            "1   123157  \n",
            "2     5608  \n",
            "3     2335  \n",
            "4    37925  \n",
            "5     4900  \n",
            "6     5173  \n",
            "7    -1996  \n",
            "8        0  \n",
            "9    24665  \n",
            "10    -634  \n",
            "11    7454  \n",
            "12   -6701  \n",
            "13    1930  \n",
            "14   -5980  \n",
            "15   -7026  \n",
            "16   12270  \n",
            "17   28418  \n",
            "18     108  \n",
            "19  -14272  \n",
            "20  110412  \n",
            "21    1853  \n",
            "22 -194667  \n",
            "23  114908  \n",
            "24  -50097  \n",
            "25   -4646  \n",
            "26       0  \n",
            "27 -132649  \n",
            "28 -131118  \n",
            "29   -9156  \n",
            "30    2326  \n",
            "31   70899  \n",
            "32   50988  \n",
            "33  -19911  \n"
          ]
        }
      ]
    },
    {
      "cell_type": "markdown",
      "source": [
        "# **EXIBIR TODOS OS DATAFRAMES**"
      ],
      "metadata": {
        "id": "E3PpfLbAs5AJ"
      }
    },
    {
      "cell_type": "code",
      "source": [
        "print(\"Balanço Patrimonial (2020-2023):\")\n",
        "print(df_balanco)\n",
        "print(\"\\nDemonstração do Resultado (2020-2023):\")\n",
        "print(df_resultado)\n",
        "print(\"\\nResultado Abrangente (2020-2023):\")\n",
        "print(df_resultado_abrangente)\n",
        "print(\"\\nMutações do Patrimônio Líquido (2019-2023):\")\n",
        "print(df_mutacoes_patrimonio)\n",
        "print(\"\\nFluxo de Caixa (2020-2023):\")\n",
        "print(df_fluxo_caixa)"
      ],
      "metadata": {
        "colab": {
          "base_uri": "https://localhost:8080/"
        },
        "id": "DDbZMioL35cf",
        "outputId": "f612140a-ed6e-42cd-ce9d-5b82d3f0b5a8"
      },
      "execution_count": 21,
      "outputs": [
        {
          "output_type": "stream",
          "name": "stdout",
          "text": [
            "Balanço Patrimonial (2020-2023):\n",
            "                                            Categoria Nota     2023     2022  \\\n",
            "0                       Caixa e equivalentes de caixa    3   234487   236887   \n",
            "1                                      Caixa restrito    3    28073    17581   \n",
            "2                                    Contas a receber    4    38686    17720   \n",
            "3   Contas a receber com a transferência de jogadores    5   123423    53821   \n",
            "4                                            Estoques          3780     4113   \n",
            "5                                Despesas antecipadas         11272     2462   \n",
            "6                                              Outros         16193    10974   \n",
            "7                           Total do ativo circulante        455914   343558   \n",
            "8          Ativo não circulante disponível para venda  6.1    59953        0   \n",
            "9   Contas a receber com a transferência de jogado...    5    54196    37034   \n",
            "10                                Depósitos judiciais   14    58780    53076   \n",
            "11                     Propriedades para investimento  6.2    38625   104893   \n",
            "12                                         Intangível    7   469080   372299   \n",
            "13                                        Imobilizado    8   247794   216165   \n",
            "14                            Outros (não circulante)          5560     4868   \n",
            "15                      Total do ativo não circulante        874035   788335   \n",
            "16                                     Total do ativo       1389902  1131893   \n",
            "17                   Fornecedores e outras obrigações    9    60225    34566   \n",
            "18    Contas a pagar com a transferência de jogadores   10   137159   145368   \n",
            "19                                        Empréstimos   11        0    35948   \n",
            "20                   Impostos e contribuições sociais   12    32546    48246   \n",
            "21                  Obrigações trabalhistas e sociais   13    24580    33347   \n",
            "22                            Adiantamentos recebidos   15   120772    94692   \n",
            "23                        Total do passivo circulante        375282   392167   \n",
            "24  Fornecedores e outras obrigações (não circulante)    9    19872    17198   \n",
            "25  Contas a pagar com a transferência de jogadore...   10    97070    69171   \n",
            "26  Impostos e contribuições sociais (não circulante)   12   155543   196588   \n",
            "27                        Provisão para contingências   14    88044   100247   \n",
            "28           Adiantamentos recebidos (não circulante)   15        0    21976   \n",
            "29                    Total do passivo não circulante        360529   405180   \n",
            "30                                   Total do passivo        735812   797347   \n",
            "31                             Reserva de reavaliação   16   192980   201331   \n",
            "32                              Superávits acumulados        461111   133215   \n",
            "33                        Total do patrimônio líquido        654091   334546   \n",
            "34           Total do passivo e do patrimônio líquido       1389902  1131893   \n",
            "\n",
            "       2021    2020  \n",
            "0    127182   50988  \n",
            "1     25233   14897  \n",
            "2     38427   11215  \n",
            "3     77194   99624  \n",
            "4      3391    2299  \n",
            "5     17234    8928  \n",
            "6     16093   10275  \n",
            "7    304754  198226  \n",
            "8         0       0  \n",
            "9     81943       0  \n",
            "10    52958   44184  \n",
            "11   104911  104930  \n",
            "12   308865  391533  \n",
            "13   208854  201488  \n",
            "14     4342    4161  \n",
            "15   761873  746296  \n",
            "16  1066627  944522  \n",
            "17    17676   17479  \n",
            "18   111756  173961  \n",
            "19    39937   59625  \n",
            "20    72970   54477  \n",
            "21    31776   39153  \n",
            "22    91001  149420  \n",
            "23   366071  495065  \n",
            "24    10711    7136  \n",
            "25    92979   96470  \n",
            "26   203918  207434  \n",
            "27   117726  115533  \n",
            "28    45627    1675  \n",
            "29   501700  428248  \n",
            "30   867771  923313  \n",
            "31   234033  237022  \n",
            "32   -35177 -215813  \n",
            "33   198856   21209  \n",
            "34  1066627  944522  \n",
            "\n",
            "Demonstração do Resultado (2020-2023):\n",
            "                                           Categoria Nota     2023     2022  \\\n",
            "0                        Receita operacional líquida   17  1315873  1112429   \n",
            "1          Custo das atividades sociais e esportivas   18  -936084  -827538   \n",
            "2                                    Resultado bruto        377789   284891   \n",
            "3                           Despesas administrativas   19   -74523   -78698   \n",
            "4                                Despesas comerciais   20   -31871   -31171   \n",
            "5   Outras receitas (despesas) operacionais líquidas   21    18304   -18346   \n",
            "6  Resultado operacional antes do resultado finan...        291698   156676   \n",
            "7                               Despesas financeiras   22   -30657   -34274   \n",
            "8                               Receitas financeiras   22    58503    13288   \n",
            "9                             Superávit do exercício        319545   135690   \n",
            "\n",
            "      2021    2020  \n",
            "0  1025428  644093  \n",
            "1  -761610 -614948  \n",
            "2   263818   29145  \n",
            "3   -45763  -73769  \n",
            "4   -18318  -12198  \n",
            "5   -11592   -8792  \n",
            "6   188145  -65614  \n",
            "7   -21424  -45293  \n",
            "8    10925    3985  \n",
            "9   177646 -106922  \n",
            "\n",
            "Resultado Abrangente (2020-2023):\n",
            "                       Categoria    2023    2022    2021    2020\n",
            "0         Superávit do exercício  319545  135690  177646 -106922\n",
            "1  Outros resultados abrangentes       0       0       0       0\n",
            "2  Total do resultado abrangente  319545  135690  177646 -106922\n",
            "\n",
            "Mutações do Patrimônio Líquido (2019-2023):\n",
            "                          Categoria  Reserva de reavaliação  \\\n",
            "0   Saldo em 31 de dezembro de 2019                  240011   \n",
            "1              Déficit do exercício                       0   \n",
            "2     Realização do custo atribuído                   -2989   \n",
            "3   Saldo em 31 de dezembro de 2020                  237022   \n",
            "4            Superávit do exercício                       0   \n",
            "5     Realização do custo atribuído                   -2989   \n",
            "6   Saldo em 31 de dezembro de 2021                  234033   \n",
            "7            Superávit do exercício                       0   \n",
            "8     Realização do custo atribuído                   -2990   \n",
            "9   Saldo em 31 de dezembro de 2022                  201331   \n",
            "10           Superávit do exercício                       0   \n",
            "11    Realização do custo atribuído                   -8351   \n",
            "12  Saldo em 31 de dezembro de 2023                  192980   \n",
            "\n",
            "    Superávits (déficits) acumulados  Total do patrimônio líquido  \n",
            "0                            -111880                       128131  \n",
            "1                            -106922                      -106922  \n",
            "2                               2989                            0  \n",
            "3                            -215813                        21209  \n",
            "4                             177646                       177646  \n",
            "5                               2989                            0  \n",
            "6                             -35177                       198856  \n",
            "7                             135690                       135690  \n",
            "8                               2990                            0  \n",
            "9                             133215                       334546  \n",
            "10                            319545                       319545  \n",
            "11                              8351                            0  \n",
            "12                            461111                       654091  \n",
            "\n",
            "Fluxo de Caixa (2020-2023):\n",
            "                                            Categoria    2023    2022    2021  \\\n",
            "0                              Superávit do exercício  319545  135690  177646   \n",
            "1            Amortização dos direitos sobre jogadores  175729  181335  136898   \n",
            "2   Depreciação de imobilizado e amortização de ou...    7731    6913    6065   \n",
            "3   Provisão esperada para créditos de liquidação ...   -4748   12235    7470   \n",
            "4                         Provisão para contingências  -12203   -7248    2193   \n",
            "5         Despesas financeiras - juros de empréstimos    1748    8290    6986   \n",
            "6   Despesas financeiras - correção monetária de i...   16810    9882    6663   \n",
            "7   Outras atualizações monetárias de ativos e pas...   -4537   -5620   -1815   \n",
            "8   Alienação de ativo não circulante mantido para...   -3118       0       0   \n",
            "9                                    Contas a receber  -16218    8472  -39752   \n",
            "10                                           Estoques     333    -722   -1092   \n",
            "11                               Despesas antecipadas   -8810   14772   -8306   \n",
            "12                                Depósitos judiciais   -1167    5502   -6958   \n",
            "13                                      Outros ativos   -5911    4593   -5998   \n",
            "14                                       Fornecedores   28334   23377    3772   \n",
            "15                   Impostos e contribuições sociais  -58988  -26278   20373   \n",
            "16                  Obrigações trabalhistas e sociais   -8767    1571   -7377   \n",
            "17                            Adiantamentos recebidos    4104  -19960   -9397   \n",
            "18                                    Outros passivos       0  -11186       4   \n",
            "19                                 Pagamento de juros  -11704  -12399   -9639   \n",
            "20   Caixa líquido gerado nas atividades operacionais  418163  329219  316742   \n",
            "21                                     Caixa restrito  -10492    7651  -10336   \n",
            "22     Pagamento pela compra de direitos de jogadores -272510 -245081  -93003   \n",
            "23    Contas a pagar com a transferência de jogadores   19690    9804  -67490   \n",
            "24  Contas a receber com a transferência de jogadores  -86764   68282  -59513   \n",
            "25                             Compras de imobilizado  -39341  -13894  -13413   \n",
            "26  Alienação de ativo não circulante mantido para...    9414       0       0   \n",
            "27  Caixa líquido aplicado nas atividades de inves... -380003 -173238 -243755   \n",
            "28                           Pagamento de empréstimos  -31533  -35944 -126075   \n",
            "29                   Pagamento de impostos parcelados   -9027  -10333   -5964   \n",
            "30      Caixa gerado nas atividades de financiamentos  -40560  -46277    3207   \n",
            "31  Caixa e equivalentes de caixa no início do exe...  236887  127182   50988   \n",
            "32  Caixa e equivalentes de caixa no final do exer...  234487  236887  127182   \n",
            "33           Aumento de caixa e equivalentes de caixa   -2400  109705   76194   \n",
            "\n",
            "      2020  \n",
            "0  -106922  \n",
            "1   123157  \n",
            "2     5608  \n",
            "3     2335  \n",
            "4    37925  \n",
            "5     4900  \n",
            "6     5173  \n",
            "7    -1996  \n",
            "8        0  \n",
            "9    24665  \n",
            "10    -634  \n",
            "11    7454  \n",
            "12   -6701  \n",
            "13    1930  \n",
            "14   -5980  \n",
            "15   -7026  \n",
            "16   12270  \n",
            "17   28418  \n",
            "18     108  \n",
            "19  -14272  \n",
            "20  110412  \n",
            "21    1853  \n",
            "22 -194667  \n",
            "23  114908  \n",
            "24  -50097  \n",
            "25   -4646  \n",
            "26       0  \n",
            "27 -132649  \n",
            "28 -131118  \n",
            "29   -9156  \n",
            "30    2326  \n",
            "31   70899  \n",
            "32   50988  \n",
            "33  -19911  \n"
          ]
        }
      ]
    }
  ]
}